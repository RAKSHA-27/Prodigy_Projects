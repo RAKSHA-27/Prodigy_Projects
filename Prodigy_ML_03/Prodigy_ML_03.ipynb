{
 "cells": [
  {
   "cell_type": "code",
   "execution_count": 5,
   "id": "2242bb30",
   "metadata": {},
   "outputs": [],
   "source": [
    "#SVM - supervised learning -  discriminative classifier\n",
    "#Margin - Hyperplane - Support Vectors // SVM kernals\n",
    "#!pip install opencv-python"
   ]
  },
  {
   "cell_type": "code",
   "execution_count": 6,
   "id": "046a5c4f",
   "metadata": {},
   "outputs": [
    {
     "name": "stdout",
     "output_type": "stream",
     "text": [
      "Import Done\n"
     ]
    }
   ],
   "source": [
    "#Imports\n",
    "import os\n",
    "import numpy as np\n",
    "import cv2\n",
    "import matplotlib.pyplot as plt\n",
    "import pickle\n",
    "import random\n",
    "from sklearn.model_selection import train_test_split\n",
    "from sklearn.svm import SVC\n",
    "print(\"Import Done\")"
   ]
  },
  {
   "cell_type": "code",
   "execution_count": 10,
   "id": "d6151f37",
   "metadata": {},
   "outputs": [
    {
     "name": "stdout",
     "output_type": "stream",
     "text": [
      "160\n"
     ]
    }
   ],
   "source": [
    "#Loading the Data\n",
    "dir='C:\\\\Users\\\\raksh\\\\Downloads\\\\Infotech IN\\\\CD'\n",
    "categories=['CATS','DOGS']\n",
    "data=[]\n",
    "for category in categories:\n",
    "    path=os.path.join(dir,category)\n",
    "    label=categories.index(category)\n",
    "    \n",
    "    for img in os.listdir(path):\n",
    "        imgpath=os.path.join(path,img)\n",
    "        pet_img=cv2.imread(imgpath,0)\n",
    "        try:\n",
    "            pet_img=cv2.resize(pet_img,(50,50))\n",
    "            image=np.array(pet_img).flatten()\n",
    "\n",
    "            data.append([image,label])\n",
    "        except Exception as e:\n",
    "            pass\n",
    "        \n",
    "print(len(data))"
   ]
  },
  {
   "cell_type": "code",
   "execution_count": 15,
   "id": "4a64c227",
   "metadata": {},
   "outputs": [],
   "source": [
    "\"\"\"pick_in=open('data1.pickle','wb')\n",
    "pickle.dump(data,pick_in)\n",
    "pick_in.close()\"\"\" # ---> one run to save model"
   ]
  },
  {
   "cell_type": "code",
   "execution_count": 16,
   "id": "e6df7186",
   "metadata": {},
   "outputs": [],
   "source": [
    "pick_in=open('data1.pickle','rb')\n",
    "data=pickle.load(pick_in)\n",
    "pick_in.close()\n"
   ]
  },
  {
   "cell_type": "code",
   "execution_count": 17,
   "id": "de578238",
   "metadata": {},
   "outputs": [],
   "source": [
    "random.shuffle(data)\n",
    "features=[]\n",
    "labels=[]\n",
    "for feature,label in data:\n",
    "    features.append(feature)\n",
    "    labels.append(label)"
   ]
  },
  {
   "cell_type": "code",
   "execution_count": 18,
   "id": "fc9e4b7b",
   "metadata": {},
   "outputs": [],
   "source": [
    "x_train,x_test,y_train,y_test=train_test_split(features,labels,test_size=0.25)"
   ]
  },
  {
   "cell_type": "code",
   "execution_count": null,
   "id": "5502ca2c",
   "metadata": {},
   "outputs": [],
   "source": [
    "\"\"\"#Model Evaluation\n",
    "model=SVC(C=1,kernel='poly',gamma='auto')\n",
    "model.fit(x_train,y_train)\n",
    "pick=open('model1.sav','wb')\n",
    "pickle.dump(model,pick)\n",
    "pick.close()\"\"\""
   ]
  },
  {
   "cell_type": "code",
   "execution_count": 19,
   "id": "35b3417d",
   "metadata": {},
   "outputs": [],
   "source": [
    "pick=open('model1.sav','rb')\n",
    "model=pickle.load(pick)\n",
    "pick.close()"
   ]
  },
  {
   "cell_type": "code",
   "execution_count": 21,
   "id": "80f593a8",
   "metadata": {},
   "outputs": [
    {
     "name": "stdout",
     "output_type": "stream",
     "text": [
      "Accuracy:  87.5\n",
      "Prediction of randomly selected image from dataset:  CATS\n"
     ]
    }
   ],
   "source": [
    "prediction=model.predict(x_test)\n",
    "accuracy=model.score(x_test,y_test)\n",
    "categories=['CATS','DOGS']\n",
    "print('Accuracy: ',accuracy*100)\n",
    "print('Prediction of randomly selected image from dataset: ',categories[prediction[0]])\n",
    "mypet=x_test[0].reshape(50,50)"
   ]
  }
 ],
 "metadata": {
  "kernelspec": {
   "display_name": "Python 3 (ipykernel)",
   "language": "python",
   "name": "python3"
  },
  "language_info": {
   "codemirror_mode": {
    "name": "ipython",
    "version": 3
   },
   "file_extension": ".py",
   "mimetype": "text/x-python",
   "name": "python",
   "nbconvert_exporter": "python",
   "pygments_lexer": "ipython3",
   "version": "3.11.5"
  }
 },
 "nbformat": 4,
 "nbformat_minor": 5
}
