{
 "cells": [
  {
   "cell_type": "code",
   "execution_count": 1,
   "id": "034c6cff",
   "metadata": {},
   "outputs": [],
   "source": [
    "#Import\n",
    "import tensorflow as tf\n",
    "import matplotlib.pyplot as plt"
   ]
  },
  {
   "cell_type": "code",
   "execution_count": 2,
   "id": "c487a724",
   "metadata": {},
   "outputs": [
    {
     "name": "stdout",
     "output_type": "stream",
     "text": [
      "Found 3115 files belonging to 36 classes.\n"
     ]
    }
   ],
   "source": [
    "#train image set\n",
    "\n",
    "training_set = tf.keras.utils.image_dataset_from_directory(\n",
    "    'C:/Users/raksh/Downloads/Infotech IN/Food/train',\n",
    "    labels=\"inferred\",\n",
    "    label_mode=\"categorical\",\n",
    "    class_names=None,\n",
    "    color_mode=\"rgb\",\n",
    "    batch_size=32,\n",
    "    image_size=(64, 64),\n",
    "    shuffle=True,\n",
    "    seed=None,\n",
    "    validation_split=None,\n",
    "    subset=None,\n",
    "    interpolation=\"bilinear\",\n",
    "    follow_links=False,\n",
    "    crop_to_aspect_ratio=False\n",
    ")\n",
    "  "
   ]
  },
  {
   "cell_type": "code",
   "execution_count": 3,
   "id": "72168a2a",
   "metadata": {},
   "outputs": [
    {
     "name": "stdout",
     "output_type": "stream",
     "text": [
      "Found 351 files belonging to 36 classes.\n"
     ]
    }
   ],
   "source": [
    "#Validation image set\n",
    "\n",
    "validation_set = tf.keras.utils.image_dataset_from_directory(\n",
    "    'C:/Users/raksh/Downloads/Infotech IN/Food/validation',\n",
    "    labels=\"inferred\",\n",
    "    label_mode=\"categorical\",\n",
    "    class_names=None,\n",
    "    color_mode=\"rgb\",\n",
    "    batch_size=32,\n",
    "    image_size=(64, 64),\n",
    "    shuffle=True,\n",
    "    seed=None,\n",
    "    validation_split=None,\n",
    "    subset=None,\n",
    "    interpolation=\"bilinear\",\n",
    "    follow_links=False,\n",
    "    crop_to_aspect_ratio=False\n",
    ")"
   ]
  },
  {
   "cell_type": "code",
   "execution_count": 4,
   "id": "39aea820",
   "metadata": {},
   "outputs": [],
   "source": [
    "#Build Model\n",
    "cnn = tf.keras.models.Sequential()"
   ]
  },
  {
   "cell_type": "code",
   "execution_count": 5,
   "id": "0d4da265",
   "metadata": {},
   "outputs": [],
   "source": [
    "#Convolution Layer\n",
    "cnn.add(tf.keras.layers.Conv2D(filters=32,kernel_size=3,padding='same',activation='relu',input_shape=[64,64,3]))\n",
    "cnn.add(tf.keras.layers.Conv2D(filters=32,kernel_size=3,activation='relu'))\n",
    "cnn.add(tf.keras.layers.MaxPool2D(pool_size=2,strides=2))\n",
    "\n",
    "cnn.add(tf.keras.layers.Dropout(0.25))\n",
    "\n",
    "cnn.add(tf.keras.layers.Conv2D(filters=64,kernel_size=3,padding='same',activation='relu'))\n",
    "cnn.add(tf.keras.layers.Conv2D(filters=64,kernel_size=3,activation='relu'))\n",
    "cnn.add(tf.keras.layers.MaxPool2D(pool_size=2,strides=2))\n",
    "\n",
    "cnn.add(tf.keras.layers.Dropout(0.25))\n",
    "     \n",
    "cnn.add(tf.keras.layers.Flatten())\n",
    "\n",
    "cnn.add(tf.keras.layers.Dense(units=512,activation='relu'))\n",
    "     \n",
    "cnn.add(tf.keras.layers.Dense(units=256,activation='relu'))\n",
    "\n",
    "cnn.add(tf.keras.layers.Dropout(0.5)) #To avoid overfitting\n",
    "     \n",
    "#Output Layer\n",
    "cnn.add(tf.keras.layers.Dense(units=36,activation='softmax'))"
   ]
  },
  {
   "cell_type": "code",
   "execution_count": 6,
   "id": "6afcf5bd",
   "metadata": {},
   "outputs": [],
   "source": [
    "#Compile and Train\n",
    "cnn.compile(optimizer='adam',loss='categorical_crossentropy',metrics=['accuracy'])\n",
    "     "
   ]
  },
  {
   "cell_type": "code",
   "execution_count": 7,
   "id": "d127f3f8",
   "metadata": {},
   "outputs": [
    {
     "name": "stdout",
     "output_type": "stream",
     "text": [
      "Model: \"sequential\"\n",
      "_________________________________________________________________\n",
      " Layer (type)                Output Shape              Param #   \n",
      "=================================================================\n",
      " conv2d (Conv2D)             (None, 64, 64, 32)        896       \n",
      "                                                                 \n",
      " conv2d_1 (Conv2D)           (None, 62, 62, 32)        9248      \n",
      "                                                                 \n",
      " max_pooling2d (MaxPooling2  (None, 31, 31, 32)        0         \n",
      " D)                                                              \n",
      "                                                                 \n",
      " dropout (Dropout)           (None, 31, 31, 32)        0         \n",
      "                                                                 \n",
      " conv2d_2 (Conv2D)           (None, 31, 31, 64)        18496     \n",
      "                                                                 \n",
      " conv2d_3 (Conv2D)           (None, 29, 29, 64)        36928     \n",
      "                                                                 \n",
      " max_pooling2d_1 (MaxPoolin  (None, 14, 14, 64)        0         \n",
      " g2D)                                                            \n",
      "                                                                 \n",
      " dropout_1 (Dropout)         (None, 14, 14, 64)        0         \n",
      "                                                                 \n",
      " flatten (Flatten)           (None, 12544)             0         \n",
      "                                                                 \n",
      " dense (Dense)               (None, 512)               6423040   \n",
      "                                                                 \n",
      " dense_1 (Dense)             (None, 256)               131328    \n",
      "                                                                 \n",
      " dropout_2 (Dropout)         (None, 256)               0         \n",
      "                                                                 \n",
      " dense_2 (Dense)             (None, 36)                9252      \n",
      "                                                                 \n",
      "=================================================================\n",
      "Total params: 6629188 (25.29 MB)\n",
      "Trainable params: 6629188 (25.29 MB)\n",
      "Non-trainable params: 0 (0.00 Byte)\n",
      "_________________________________________________________________\n"
     ]
    }
   ],
   "source": [
    "cnn.summary()"
   ]
  },
  {
   "cell_type": "code",
   "execution_count": 8,
   "id": "32a3060e",
   "metadata": {},
   "outputs": [
    {
     "name": "stdout",
     "output_type": "stream",
     "text": [
      "Epoch 1/10\n",
      "98/98 [==============================] - 51s 489ms/step - loss: 9.6018 - accuracy: 0.0247 - val_loss: 3.5837 - val_accuracy: 0.0256\n",
      "Epoch 2/10\n",
      "98/98 [==============================] - 50s 495ms/step - loss: 3.5706 - accuracy: 0.0366 - val_loss: 3.5361 - val_accuracy: 0.0570\n",
      "Epoch 3/10\n",
      "98/98 [==============================] - 53s 525ms/step - loss: 3.4573 - accuracy: 0.0510 - val_loss: 3.2921 - val_accuracy: 0.0712\n",
      "Epoch 4/10\n",
      "98/98 [==============================] - 50s 495ms/step - loss: 3.3691 - accuracy: 0.0629 - val_loss: 3.1865 - val_accuracy: 0.1197\n",
      "Epoch 5/10\n",
      "98/98 [==============================] - 50s 494ms/step - loss: 3.2644 - accuracy: 0.0738 - val_loss: 3.1689 - val_accuracy: 0.1396\n",
      "Epoch 6/10\n",
      "98/98 [==============================] - 48s 465ms/step - loss: 3.2068 - accuracy: 0.0828 - val_loss: 2.9589 - val_accuracy: 0.1624\n",
      "Epoch 7/10\n",
      "98/98 [==============================] - 45s 447ms/step - loss: 3.1286 - accuracy: 0.1085 - val_loss: 3.0442 - val_accuracy: 0.1795\n",
      "Epoch 8/10\n",
      "98/98 [==============================] - 47s 462ms/step - loss: 3.0844 - accuracy: 0.1387 - val_loss: 2.7458 - val_accuracy: 0.2479\n",
      "Epoch 9/10\n",
      "98/98 [==============================] - 49s 486ms/step - loss: 2.9253 - accuracy: 0.1804 - val_loss: 2.4739 - val_accuracy: 0.3419\n",
      "Epoch 10/10\n",
      "98/98 [==============================] - 49s 488ms/step - loss: 2.7542 - accuracy: 0.2215 - val_loss: 2.2026 - val_accuracy: 0.4729\n"
     ]
    }
   ],
   "source": [
    "training_history = cnn.fit(x=training_set,validation_data=validation_set,epochs=10)"
   ]
  },
  {
   "cell_type": "code",
   "execution_count": 9,
   "id": "1a3ab7c2",
   "metadata": {},
   "outputs": [
    {
     "name": "stdout",
     "output_type": "stream",
     "text": [
      "98/98 [==============================] - 25s 240ms/step - loss: 2.3991 - accuracy: 0.3657\n",
      "Training accuracy: 0.36565008759498596\n"
     ]
    }
   ],
   "source": [
    "#Evaluation\n",
    "#Training set Accuracy\n",
    "train_loss, train_acc = cnn.evaluate(training_set)\n",
    "print('Training accuracy:', train_acc)"
   ]
  },
  {
   "cell_type": "code",
   "execution_count": 10,
   "id": "560ab507",
   "metadata": {},
   "outputs": [
    {
     "name": "stdout",
     "output_type": "stream",
     "text": [
      "11/11 [==============================] - 3s 106ms/step - loss: 2.2026 - accuracy: 0.4729\n",
      "Validation accuracy: 0.4729344844818115\n"
     ]
    }
   ],
   "source": [
    "#Validation set Accuracy\n",
    "val_loss, val_acc = cnn.evaluate(validation_set)\n",
    "print('Validation accuracy:', val_acc)"
   ]
  },
  {
   "cell_type": "code",
   "execution_count": 26,
   "id": "7ae8bc39",
   "metadata": {},
   "outputs": [
    {
     "name": "stdout",
     "output_type": "stream",
     "text": [
      "Saved/\n"
     ]
    }
   ],
   "source": [
    "#Save Model\n",
    "cnn.save('trained_model.h5')\n",
    "print(\"Saved/\")"
   ]
  },
  {
   "cell_type": "code",
   "execution_count": 27,
   "id": "21699ecc",
   "metadata": {},
   "outputs": [
    {
     "data": {
      "text/plain": [
       "{'loss': [9.601791381835938,\n",
       "  3.5705666542053223,\n",
       "  3.4572629928588867,\n",
       "  3.3691399097442627,\n",
       "  3.2644214630126953,\n",
       "  3.206756353378296,\n",
       "  3.128641128540039,\n",
       "  3.0844485759735107,\n",
       "  2.9252688884735107,\n",
       "  2.7541966438293457],\n",
       " 'accuracy': [0.024719100445508957,\n",
       "  0.0365971103310585,\n",
       "  0.05104333907365799,\n",
       "  0.06292134523391724,\n",
       "  0.07383627444505692,\n",
       "  0.08282504230737686,\n",
       "  0.10850722342729568,\n",
       "  0.13868378102779388,\n",
       "  0.18041732907295227,\n",
       "  0.22150883078575134],\n",
       " 'val_loss': [3.5836637020111084,\n",
       "  3.536097288131714,\n",
       "  3.2921385765075684,\n",
       "  3.186549186706543,\n",
       "  3.1689064502716064,\n",
       "  2.958944797515869,\n",
       "  3.0442469120025635,\n",
       "  2.745756149291992,\n",
       "  2.4739460945129395,\n",
       "  2.202620267868042],\n",
       " 'val_accuracy': [0.025641025975346565,\n",
       "  0.056980058550834656,\n",
       "  0.07122506946325302,\n",
       "  0.11965811997652054,\n",
       "  0.13960114121437073,\n",
       "  0.16239316761493683,\n",
       "  0.1794871836900711,\n",
       "  0.24786324799060822,\n",
       "  0.34188035130500793,\n",
       "  0.4729344844818115]}"
      ]
     },
     "execution_count": 27,
     "metadata": {},
     "output_type": "execute_result"
    }
   ],
   "source": [
    "training_history.history #Return Dictionary of history"
   ]
  },
  {
   "cell_type": "code",
   "execution_count": 28,
   "id": "bceffa9c",
   "metadata": {},
   "outputs": [],
   "source": [
    "#Recording History in json\n",
    "import json\n",
    "with open('training_hist.json','w') as f:\n",
    "    json.dump(training_history.history,f)"
   ]
  },
  {
   "cell_type": "code",
   "execution_count": 29,
   "id": "2367df3b",
   "metadata": {},
   "outputs": [
    {
     "name": "stdout",
     "output_type": "stream",
     "text": [
      "dict_keys(['loss', 'accuracy', 'val_loss', 'val_accuracy'])\n"
     ]
    }
   ],
   "source": [
    "print(training_history.history.keys())"
   ]
  },
  {
   "cell_type": "code",
   "execution_count": 30,
   "id": "5c8324f8",
   "metadata": {},
   "outputs": [
    {
     "name": "stdout",
     "output_type": "stream",
     "text": [
      "Validation set Accuracy: 47.29344844818115 %\n"
     ]
    }
   ],
   "source": [
    "#Accurracy on validation set\n",
    "print(\"Validation set Accuracy: {} %\".format(training_history.history['val_accuracy'][-1]*100))"
   ]
  },
  {
   "cell_type": "code",
   "execution_count": null,
   "id": "0ba2db4f",
   "metadata": {},
   "outputs": [],
   "source": [
    "\"\"\"\n",
    "#Visualization\n",
    "epochs = [i for i in range(1,33)]\n",
    "plt.plot(epochs,training_history.history['accuracy'],color='red')\n",
    "plt.xlabel('No. of Epochs')\n",
    "plt.ylabel('Traiining Accuracy')\n",
    "plt.title('Visualization of Training Accuracy Result')\n",
    "plt.show()\n",
    "\n",
    "#Validation Accuracy\n",
    "plt.plot(epochs,training_history.history['val_accuracy'],color='blue')\n",
    "plt.xlabel('No. of Epochs')\n",
    "plt.ylabel('Validation Accuracy')\n",
    "plt.title('Visualization of Validation Accuracy Result')\n",
    "plt.show()\n",
    "\n",
    "#Test set Evaluation\n",
    "test_set = tf.keras.utils.image_dataset_from_directory(\n",
    "    'C:/Users/raksh/Downloads/Infotech IN/Food/test',\n",
    "    labels=\"inferred\",\n",
    "    label_mode=\"categorical\",\n",
    "    class_names=None,\n",
    "    color_mode=\"rgb\",\n",
    "    batch_size=32,\n",
    "    image_size=(64, 64),\n",
    "    shuffle=True,\n",
    "    seed=None,\n",
    "    validation_split=None,\n",
    "    subset=None,\n",
    "    interpolation=\"bilinear\",\n",
    "    follow_links=False,\n",
    "    crop_to_aspect_ratio=False\n",
    ")\n",
    "test_loss,test_acc = cnn.evaluate(test_set)\n",
    "print('Test accuracy:', test_acc)\n",
    "\"\"\""
   ]
  }
 ],
 "metadata": {
  "kernelspec": {
   "display_name": "Python 3 (ipykernel)",
   "language": "python",
   "name": "python3"
  },
  "language_info": {
   "codemirror_mode": {
    "name": "ipython",
    "version": 3
   },
   "file_extension": ".py",
   "mimetype": "text/x-python",
   "name": "python",
   "nbconvert_exporter": "python",
   "pygments_lexer": "ipython3",
   "version": "3.11.5"
  }
 },
 "nbformat": 4,
 "nbformat_minor": 5
}
